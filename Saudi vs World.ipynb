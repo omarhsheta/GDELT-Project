{
  "nbformat": 4,
  "nbformat_minor": 0,
  "metadata": {
    "colab": {
      "name": "DATA301 Project - osh18",
      "provenance": [],
      "collapsed_sections": [
        "c8b1L7ENxpqL"
      ]
    },
    "kernelspec": {
      "display_name": "Python 3",
      "name": "python3"
    },
    "language_info": {
      "name": "python"
    }
  },
  "cells": [
    {
      "cell_type": "markdown",
      "metadata": {
        "id": "Vcj3GWeesD8c"
      },
      "source": [
        "#Start up the project"
      ]
    },
    {
      "cell_type": "code",
      "metadata": {
        "colab": {
          "base_uri": "https://localhost:8080/"
        },
        "id": "cLlB4gtlXrB5",
        "outputId": "91217b5b-71f7-4bed-9c07-9a584c4c737c"
      },
      "source": [
        "#library and code setup\n",
        "!apt-get update\n",
        "!apt-get install openjdk-8-jdk-headless -qq > /dev/null\n",
        "!pip install -q pyspark\n",
        "import pyspark, os\n",
        "from pyspark import SparkConf, SparkContext\n",
        "os.environ[\"PYSPARK_PYTHON\"]=\"python3\"\n",
        "os.environ[\"JAVA_HOME\"]=\"/usr/lib/jvm/java-8-openjdk-amd64/\"\n",
        "\n",
        "!pip install gdelt"
      ],
      "execution_count": null,
      "outputs": [
        {
          "output_type": "stream",
          "text": [
            "\r0% [Working]\r            \rGet:1 http://security.ubuntu.com/ubuntu bionic-security InRelease [88.7 kB]\n",
            "Hit:2 https://cloud.r-project.org/bin/linux/ubuntu bionic-cran40/ InRelease\n",
            "Ign:3 https://developer.download.nvidia.com/compute/cuda/repos/ubuntu1804/x86_64  InRelease\n",
            "Hit:4 http://ppa.launchpad.net/c2d4u.team/c2d4u4.0+/ubuntu bionic InRelease\n",
            "Hit:5 http://archive.ubuntu.com/ubuntu bionic InRelease\n",
            "Ign:6 https://developer.download.nvidia.com/compute/machine-learning/repos/ubuntu1804/x86_64  InRelease\n",
            "Hit:7 https://developer.download.nvidia.com/compute/cuda/repos/ubuntu1804/x86_64  Release\n",
            "Hit:8 https://developer.download.nvidia.com/compute/machine-learning/repos/ubuntu1804/x86_64  Release\n",
            "Get:9 http://archive.ubuntu.com/ubuntu bionic-updates InRelease [88.7 kB]\n",
            "Hit:10 http://ppa.launchpad.net/cran/libgit2/ubuntu bionic InRelease\n",
            "Hit:11 http://ppa.launchpad.net/deadsnakes/ppa/ubuntu bionic InRelease\n",
            "Get:12 http://security.ubuntu.com/ubuntu bionic-security/main amd64 Packages [2,182 kB]\n",
            "Get:13 http://archive.ubuntu.com/ubuntu bionic-backports InRelease [74.6 kB]\n",
            "Get:14 http://security.ubuntu.com/ubuntu bionic-security/restricted amd64 Packages [448 kB]\n",
            "Hit:15 http://ppa.launchpad.net/graphics-drivers/ppa/ubuntu bionic InRelease\n",
            "Get:18 http://archive.ubuntu.com/ubuntu bionic-updates/restricted amd64 Packages [480 kB]\n",
            "Get:19 http://archive.ubuntu.com/ubuntu bionic-updates/main amd64 Packages [2,617 kB]\n",
            "Fetched 5,979 kB in 2s (2,407 kB/s)\n",
            "Reading package lists... Done\n",
            "Requirement already satisfied: gdelt in /usr/local/lib/python3.7/dist-packages (0.1.10.6)\n",
            "Requirement already satisfied: python-dateutil in /usr/local/lib/python3.7/dist-packages (from gdelt) (2.8.1)\n",
            "Requirement already satisfied: numpy in /usr/local/lib/python3.7/dist-packages (from gdelt) (1.19.5)\n",
            "Requirement already satisfied: requests in /usr/local/lib/python3.7/dist-packages (from gdelt) (2.23.0)\n",
            "Requirement already satisfied: pandas>=0.20.3 in /usr/local/lib/python3.7/dist-packages (from gdelt) (1.1.5)\n",
            "Requirement already satisfied: six>=1.5 in /usr/local/lib/python3.7/dist-packages (from python-dateutil->gdelt) (1.15.0)\n",
            "Requirement already satisfied: urllib3!=1.25.0,!=1.25.1,<1.26,>=1.21.1 in /usr/local/lib/python3.7/dist-packages (from requests->gdelt) (1.24.3)\n",
            "Requirement already satisfied: chardet<4,>=3.0.2 in /usr/local/lib/python3.7/dist-packages (from requests->gdelt) (3.0.4)\n",
            "Requirement already satisfied: idna<3,>=2.5 in /usr/local/lib/python3.7/dist-packages (from requests->gdelt) (2.10)\n",
            "Requirement already satisfied: certifi>=2017.4.17 in /usr/local/lib/python3.7/dist-packages (from requests->gdelt) (2020.12.5)\n",
            "Requirement already satisfied: pytz>=2017.2 in /usr/local/lib/python3.7/dist-packages (from pandas>=0.20.3->gdelt) (2018.9)\n"
          ],
          "name": "stdout"
        }
      ]
    },
    {
      "cell_type": "code",
      "metadata": {
        "id": "8R4oU2h0ZlcS"
      },
      "source": [
        "#start spark local server\n",
        "import sys, os\n",
        "from operator import add\n",
        "import time\n",
        "\n",
        "os.environ[\"PYSPARK_PYTHON\"]=\"python3\"\n",
        "\n",
        "import pyspark\n",
        "from pyspark import SparkConf, SparkContext\n",
        "\n",
        "#connects our python driver to a local Spark JVM running on the Google Colab server virtual machine\n",
        "try:\n",
        "  conf = SparkConf().setMaster(\"local[1]\").set(\"spark.executor.memory\", \"1g\")\n",
        "  sc = SparkContext(conf = conf)\n",
        "except ValueError:\n",
        "  #it's ok if the server is already started\n",
        "  pass\n",
        "\n",
        "def dbg(x):\n",
        "  \"\"\" A helper function to print debugging information on RDDs \"\"\"\n",
        "  if isinstance(x, pyspark.RDD):\n",
        "    print([(t[0], list(t[1]) if \n",
        "            isinstance(t[1], pyspark.resultiterable.ResultIterable) else t[1])\n",
        "           if isinstance(t, tuple) else t\n",
        "           for t in x.take(100)])\n",
        "  else:\n",
        "    print(x)"
      ],
      "execution_count": null,
      "outputs": []
    },
    {
      "cell_type": "code",
      "metadata": {
        "id": "-ECtd_1PT52N"
      },
      "source": [
        "from concurrent.futures import ProcessPoolExecutor\n",
        "from datetime import date, timedelta\n",
        "import pandas as pd\n",
        "import gdelt\n",
        "import os\n",
        "\n",
        "# set up gdeltpyr for version 2\n",
        "gd = gdelt.gdelt(version=2)\n",
        "\n",
        "# multiprocess the query\n",
        "e = ProcessPoolExecutor()"
      ],
      "execution_count": null,
      "outputs": []
    },
    {
      "cell_type": "markdown",
      "metadata": {
        "id": "YZBKE3zesBxM"
      },
      "source": [
        "#The program itself"
      ]
    },
    {
      "cell_type": "markdown",
      "metadata": {
        "id": "8Vb9AM5ByMjQ"
      },
      "source": [
        "##Obtaining the data"
      ]
    },
    {
      "cell_type": "code",
      "metadata": {
        "colab": {
          "base_uri": "https://localhost:8080/"
        },
        "id": "7BnlGpNSZn3n",
        "outputId": "8840fbdd-5c43-4876-d9f0-365c473c7e08"
      },
      "source": [
        "# generic functions to pull and write data to disk based on date\n",
        "def get_filename(x):\n",
        "  date = x.strftime('%Y%m%d')\n",
        "  return \"{}_gdeltdataEvent.csv\".format(date)\n",
        "\n",
        "def intofile(filename):\n",
        "    try:\n",
        "        if not os.path.exists(filename):\n",
        "          date = filename.split(\"_\")[0]\n",
        "          d = gd.Search(date, table='events',coverage=True) #not updata at 15mins\n",
        "          d.to_csv(filename,encoding='utf-8',index=False)\n",
        "    except:\n",
        "        print(\"Error occurred\")\n",
        "\n",
        "# # pull the data from gdelt into multi files; this may take a long time\n",
        "annoncement = [get_filename(x) for x in pd.date_range('2017 Sep 24','2017 Oct 09')] #The date when Mohammed Bin Salman announced he will lift the ban is on 26th of Sep 2017 on Arabian Standard Time. Added ranges to take timezones into an account and delayed articles.\n",
        "liftBanPeriod = [get_filename(x) for x in pd.date_range('2018 June 23','2018 July 07')] #The date that the ban was lifted is on 24th of June 2018 on Arabian Standard Time. Added ranges to take timezones into an account and delayed articles.\n",
        "\n",
        "results = list(e.map(intofile,annoncement+liftBanPeriod))\n",
        "print(results)"
      ],
      "execution_count": null,
      "outputs": [
        {
          "output_type": "stream",
          "text": [
            "[None, None, None, None, None, None, None, None, None, None, None, None, None, None, None, None, None, None, None, None, None, None, None, None, None, None, None, None, None, None, None]\n"
          ],
          "name": "stdout"
        }
      ]
    },
    {
      "cell_type": "code",
      "metadata": {
        "id": "PiLIInOFyStW"
      },
      "source": [
        "from pyspark.sql import SQLContext\n",
        "sqlContext = SQLContext(sc)\n",
        "\n",
        "announcementData = sqlContext.read.option(\"header\", \"true\").csv(annoncement)\n",
        "liftBanPeriodData = sqlContext.read.option(\"header\", \"true\").csv(liftBanPeriod)\n",
        "\n",
        "ARAB_COUNTRY_CODES = [\"egy\", \"jor\", \"yem\", \"pse\", \"omn\", \"are\", \"qat\", \"bhr\", \"kwt\", \"irq\", \"syr\", \"lbn\", \"sdn\", \"lby\", \"dza\", \"tun\", \"mar\", \"mrt\"]\n"
      ],
      "execution_count": null,
      "outputs": []
    },
    {
      "cell_type": "markdown",
      "metadata": {
        "id": "c8b1L7ENxpqL"
      },
      "source": [
        "##The needed functions"
      ]
    },
    {
      "cell_type": "code",
      "metadata": {
        "id": "X25SKJAvXuXR"
      },
      "source": [
        "import numpy as np\n",
        "\n",
        "def filterRelevant(rawData):\n",
        "  \"\"\"\n",
        "  Filter the relevant data, then replace the url with a number so I can reduce them into counts of positive, neutral, negative events by country\n",
        "  \"\"\"\n",
        "  rawData = rawData.filter(lambda row: ((\"women\" in row[1].lower() or \"woman\" in row[1].lower()) and (\"drive\" in row[1].lower() or \"driving\" in row[1].lower()) and (\"saud\" in row[1].lower())))\n",
        "  rawData = rawData.map(lambda row: ((row[0][0], row[0][1]), 1)).reduceByKey(lambda a, b: a+b) #No longer need articles\n",
        "  return rawData\n",
        "\n",
        "def filterByInterestRegions(rawData):\n",
        "  \"\"\"\n",
        "  Filter out regions of interest and combine them again to be able to process them as vectors.\n",
        "  \"\"\"\n",
        "  result1 = rawData.filter(lambda row: row[0][0] is not None and 'sau' in row[0][0].lower())\n",
        "  result2 = rawData.filter(lambda row: row[0][0] is not None and row[0][0].lower() in ARAB_COUNTRY_CODES).map(lambda row: (('ARB', row[0][1]), row[1])).reduceByKey(lambda a, b: a+b)\n",
        "  result3 = rawData.filter(lambda row: (row[0][0] is not None and row[0][0].lower() not in ARAB_COUNTRY_CODES and \"sau\" not in row[0][0].lower()) or row[0][0] is None).map(lambda row: (('INT', row[0][1]), row[1])).reduceByKey(lambda a, b: a+b)\n",
        "  result = result1.union(result2).union(result3)\n",
        "  return {k:v for k,v in result.collect()}\n",
        "\n",
        "def get_vector(result, country):\n",
        "  \"\"\"\n",
        "  Obtains a vector of \n",
        "  \"\"\"\n",
        "  return np.array([result[(country, 'Positive')],\n",
        "          result[(country, 'Negative')],\n",
        "          result[(country, 'Neutral')]])  \n",
        "  \n",
        "def event_tone(tone):\n",
        "  return (\"Positive\" if tone > 0 else\n",
        "          \"Neutral\" if tone == 0 else\n",
        "          \"Negative\")\n",
        "  \n",
        "def cos_similarity(v1, v2):\n",
        "  return v1.dot(v2) / (np.linalg.norm(v1)*np.linalg.norm(v2))\n"
      ],
      "execution_count": null,
      "outputs": []
    },
    {
      "cell_type": "markdown",
      "metadata": {
        "id": "DzXo_xMsYFe8"
      },
      "source": [
        "##Calls to filter the raw data to data of interest"
      ]
    },
    {
      "cell_type": "code",
      "metadata": {
        "id": "xDj8iQSc1eAF"
      },
      "source": [
        "announcementRawData = announcementData.rdd.map(lambda row: ((row['Actor1CountryCode'], event_tone(float(row['AvgTone']))), row['SOURCEURL']))\n",
        "liftBanPeriodRawData = liftBanPeriodData.rdd.map(lambda row: ((row['Actor1CountryCode'], event_tone(float(row['AvgTone']))), row['SOURCEURL']))"
      ],
      "execution_count": null,
      "outputs": []
    },
    {
      "cell_type": "code",
      "metadata": {
        "id": "YTMcvcMHiwZb"
      },
      "source": [
        "announcementReactions = filterByInterestRegions(filterRelevant(announcementRawData))\n",
        "liftBanReactions = filterByInterestRegions(filterRelevant(liftBanPeriodRawData))"
      ],
      "execution_count": null,
      "outputs": []
    },
    {
      "cell_type": "markdown",
      "metadata": {
        "id": "Pe7bOryGYM5f"
      },
      "source": [
        "##Answer to the research question"
      ]
    },
    {
      "cell_type": "code",
      "metadata": {
        "colab": {
          "base_uri": "https://localhost:8080/"
        },
        "id": "G2e5twijx0e7",
        "outputId": "3a143fa2-c1e6-4456-8cbb-1482da4e30e9"
      },
      "source": [
        "saudiAnnounceReactions = get_vector(announcementReactions, \"SAU\")\n",
        "arabAnnounceReactions = get_vector(announcementReactions, \"ARB\")\n",
        "interAnnounceReactions = get_vector(announcementReactions, \"INT\")\n",
        "print(f\"Vector of Saudi positive, negative, and neutral articles about the announcement {saudiAnnounceReactions}\")\n",
        "print(f\"Vector of Arab positive, negative, and neutral articles about the announcement {arabAnnounceReactions}\")\n",
        "print(f\"Vector of International positive, negative, and neutral articles about the announcement {interAnnounceReactions}\")"
      ],
      "execution_count": null,
      "outputs": [
        {
          "output_type": "stream",
          "text": [
            "Vector of Saudi positive, negative, and neutral articles about the announcement [416 547  17]\n",
            "Vector of Arab positive, negative, and neutral articles about the announcement [21 45  2]\n",
            "Vector of International positive, negative, and neutral articles about the announcement [415 574  23]\n"
          ],
          "name": "stdout"
        }
      ]
    },
    {
      "cell_type": "code",
      "metadata": {
        "colab": {
          "base_uri": "https://localhost:8080/"
        },
        "id": "LtMJWVlpDsaA",
        "outputId": "3f7fe3ee-26d7-4128-b0a3-a62fcc8a15d9"
      },
      "source": [
        "saudiLiftBanReactions = get_vector(liftBanReactions, \"SAU\")\n",
        "arabLiftBanReactions = get_vector(liftBanReactions, \"ARB\")\n",
        "interLiftBanReactions = get_vector(liftBanReactions, \"INT\")\n",
        "print(f\"Vector of Saudi positive, negative, and neutral articles about the ban lift {saudiLiftBanReactions}\")\n",
        "print(f\"Vector of Arab positive, negative, and neutral articles about the ban lift {arabLiftBanReactions}\")\n",
        "print(f\"Vector of International positive, negative, and neutral articles about the ban lift {interLiftBanReactions}\")"
      ],
      "execution_count": null,
      "outputs": [
        {
          "output_type": "stream",
          "text": [
            "Vector of Saudi positive, negative, and neutral articles about the ban lift [174 454  13]\n",
            "Vector of Arab positive, negative, and neutral articles about the ban lift [ 6 10  3]\n",
            "Vector of International positive, negative, and neutral articles about the ban lift [151 574  13]\n"
          ],
          "name": "stdout"
        }
      ]
    },
    {
      "cell_type": "code",
      "metadata": {
        "colab": {
          "base_uri": "https://localhost:8080/"
        },
        "id": "oe1nO-TRET_q",
        "outputId": "fc54f3c5-b5cc-462e-ee98-2f94ce6b5634"
      },
      "source": [
        "print(f\"Saudi reaction similarity to announcement compared to Saudi Arabia {cos_similarity(saudiAnnounceReactions,saudiAnnounceReactions)}\")\n",
        "print(f\"Saudi reaction similarity to announcement compared to the rest of the Arab world {cos_similarity(saudiAnnounceReactions,arabAnnounceReactions)}\")\n",
        "print(f\"Saudi reaction similarity to announcement compared to the rest of the world {cos_similarity(saudiAnnounceReactions,interAnnounceReactions)}\")\n"
      ],
      "execution_count": null,
      "outputs": [
        {
          "output_type": "stream",
          "text": [
            "Saudi reaction similarity to announcement compared to Saudi Arabia 1.0000000000000002\n",
            "Saudi reaction similarity to announcement compared to the rest of the Arab world 0.9771858781250261\n",
            "Saudi reaction similarity to announcement compared to the rest of the world 0.9996775512955165\n"
          ],
          "name": "stdout"
        }
      ]
    },
    {
      "cell_type": "code",
      "metadata": {
        "colab": {
          "base_uri": "https://localhost:8080/"
        },
        "id": "U6-dlP1GJkry",
        "outputId": "22a17e0f-2220-463c-fbf0-a2e386307a8c"
      },
      "source": [
        "print(f\"Saudi reaction similarity to ban lift compared to Saudi Arabia {cos_similarity(saudiLiftBanReactions,saudiLiftBanReactions)}\")\n",
        "print(f\"Saudi reaction similarity to ban lift compared to the rest of the Arab world {cos_similarity(saudiLiftBanReactions,arabLiftBanReactions)}\")\n",
        "print(f\"Saudi reaction similarity to ban lift compared to the rest of the world {cos_similarity(saudiLiftBanReactions,interLiftBanReactions)}\")"
      ],
      "execution_count": null,
      "outputs": [
        {
          "output_type": "stream",
          "text": [
            "Saudi reaction similarity to ban lift compared to Saudi Arabia 1.0000000000000002\n",
            "Saudi reaction similarity to ban lift compared to the rest of the Arab world 0.9600912434220401\n",
            "Saudi reaction similarity to ban lift compared to the rest of the world 0.9940839035469081\n"
          ],
          "name": "stdout"
        }
      ]
    }
  ]
}